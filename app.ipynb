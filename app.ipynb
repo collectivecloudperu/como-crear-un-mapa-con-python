{
 "cells": [
  {
   "cell_type": "code",
   "execution_count": 12,
   "metadata": {},
   "outputs": [
    {
     "ename": "TypeError",
     "evalue": "'module' object is not callable",
     "output_type": "error",
     "traceback": [
      "\u001b[1;31m---------------------------------------------------------------------------\u001b[0m",
      "\u001b[1;31mTypeError\u001b[0m                                 Traceback (most recent call last)",
      "Cell \u001b[1;32mIn[12], line 14\u001b[0m\n\u001b[0;32m      6\u001b[0m mymap \u001b[38;5;241m=\u001b[39m folium\u001b[38;5;241m.\u001b[39mMap(location\u001b[38;5;241m=\u001b[39mmap_center, zoom_start\u001b[38;5;241m=\u001b[39m\u001b[38;5;241m15\u001b[39m)\n\u001b[0;32m      8\u001b[0m folium\u001b[38;5;241m.\u001b[39mMarker(\n\u001b[0;32m      9\u001b[0m     [\u001b[38;5;241m-\u001b[39m\u001b[38;5;241m12.0877267\u001b[39m,\u001b[38;5;241m-\u001b[39m\u001b[38;5;241m77.0320366\u001b[39m],\n\u001b[0;32m     10\u001b[0m     popup\u001b[38;5;241m=\u001b[39m\u001b[38;5;124m\"\u001b[39m\u001b[38;5;124mAv. Lunitas\u001b[39m\u001b[38;5;124m\"\u001b[39m,\n\u001b[0;32m     11\u001b[0m     icon\u001b[38;5;241m=\u001b[39mfolium\u001b[38;5;241m.\u001b[39mIcon(color\u001b[38;5;241m=\u001b[39m\u001b[38;5;124m\"\u001b[39m\u001b[38;5;124mred\u001b[39m\u001b[38;5;124m\"\u001b[39m, icon\u001b[38;5;241m=\u001b[39m\u001b[38;5;124m\"\u001b[39m\u001b[38;5;124minfo-sign\u001b[39m\u001b[38;5;124m\"\u001b[39m)\n\u001b[0;32m     12\u001b[0m )\u001b[38;5;241m.\u001b[39madd_to(mymap)\n\u001b[1;32m---> 14\u001b[0m \u001b[43mdisplay\u001b[49m\u001b[43m(\u001b[49m\u001b[43mmymap\u001b[49m\u001b[43m)\u001b[49m\n",
      "\u001b[1;31mTypeError\u001b[0m: 'module' object is not callable"
     ]
    }
   ],
   "source": [
    "import folium\n",
    "\n",
    "from IPython.display import display\n",
    "\n",
    "map_center = [-12.0877267,-77.0320366]\n",
    "mymap = folium.Map(location=map_center, zoom_start=15)\n",
    "\n",
    "folium.Marker(\n",
    "    [-12.0877267,-77.0320366],\n",
    "    popup=\"Av. Lunitas\",\n",
    "    icon=folium.Icon(color=\"red\", icon=\"info-sign\")\n",
    ").add_to(mymap)\n",
    "\n",
    "display(mymap)"
   ]
  }
 ],
 "metadata": {
  "kernelspec": {
   "display_name": "Python 3",
   "language": "python",
   "name": "python3"
  },
  "language_info": {
   "codemirror_mode": {
    "name": "ipython",
    "version": 3
   },
   "file_extension": ".py",
   "mimetype": "text/x-python",
   "name": "python",
   "nbconvert_exporter": "python",
   "pygments_lexer": "ipython3",
   "version": "3.12.0"
  }
 },
 "nbformat": 4,
 "nbformat_minor": 2
}
